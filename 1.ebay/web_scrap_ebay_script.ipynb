{
 "cells": [
  {
   "cell_type": "markdown",
   "id": "8f02aa27",
   "metadata": {},
   "source": [
    "### Script of Web scraping\n",
    "Oct 5th in 2023"
   ]
  },
  {
   "cell_type": "markdown",
   "id": "fc8658f9",
   "metadata": {},
   "source": [
    "To go to the explanation of its github readme file, see:\n",
    "\n",
    "https://github.com/GBlanch/Python-with-BeautifulSoup-for-Web-Scraping\n",
    "\n"
   ]
  },
  {
   "cell_type": "markdown",
   "id": "4ec5156a",
   "metadata": {},
   "source": [
    "#### Foreword:\n",
    "\n",
    "\n",
    "Please note that a neater and more consistent way to name the dataframes would have been, for instance,  to mention the dataframes and their respective .csv files like reads below:\n",
    "\n",
    "**Machine learning ( from the 2nd half of the current script)**\n",
    "\n",
    "Price:\n",
    "\n",
    "- Dataframe: `df_machine_learn_p` \n",
    "- csv file: `ml_price.csv`\n",
    "\n",
    "Shipping price:\n",
    "\n",
    "- Dataframe: `df_machine_learn_sp`\n",
    "- csv file: `ml_shipprice.csv`\n",
    "\n",
    "Country of provenance:\n",
    "\n",
    "- Dataframe: `df_machine_learn_cop`\n",
    "- csv file: `ml_countryprovenance.csv`"
   ]
  },
  {
   "cell_type": "code",
   "execution_count": 1,
   "id": "954999fb",
   "metadata": {},
   "outputs": [],
   "source": [
    "from bs4 import BeautifulSoup as soup\n",
    "from urllib.request import urlopen as uReq\n",
    "import pandas as pd\n",
    "import numpy as np"
   ]
  },
  {
   "cell_type": "code",
   "execution_count": 8,
   "id": "87e27503",
   "metadata": {},
   "outputs": [
    {
     "data": {
      "text/plain": [
       "'https://www.ebay.com/sch/i.html?_from=R40&_nkw=hiking+gear&_sacat=0&LH_TitleDesc=0&_sop=15'"
      ]
     },
     "execution_count": 8,
     "metadata": {},
     "output_type": "execute_result"
    }
   ],
   "source": [
    "url = 'https://www.ebay.com/sch/i.html?_from=R40&_nkw=hiking+gear&_sacat=0&LH_TitleDesc=0&_sop=15'\n",
    "url"
   ]
  },
  {
   "cell_type": "code",
   "execution_count": 24,
   "id": "33e66b6a",
   "metadata": {},
   "outputs": [
    {
     "data": {
      "text/plain": [
       "'https://www.ebay.com/sch/i.html?_from=R40&_nkw=machine+learning+books&_sacat=0&LH_TitleDesc=0&_sop=15'"
      ]
     },
     "execution_count": 24,
     "metadata": {},
     "output_type": "execute_result"
    }
   ],
   "source": [
    "key_word_search = 'machine+learning+books'\n",
    "url = 'https://www.ebay.com/sch/i.html?_from=R40&_nkw={}&_sacat=0&LH_TitleDesc=0&_sop=15'.format(key_word_search)\n",
    "url"
   ]
  },
  {
   "cell_type": "code",
   "execution_count": 25,
   "id": "c3f73b52",
   "metadata": {},
   "outputs": [
    {
     "data": {
      "text/plain": [
       "<http.client.HTTPResponse at 0x149d6918ac0>"
      ]
     },
     "execution_count": 25,
     "metadata": {},
     "output_type": "execute_result"
    }
   ],
   "source": [
    "client = uReq(url)\n",
    "client\n",
    "# http client object is given"
   ]
  },
  {
   "cell_type": "code",
   "execution_count": 9,
   "id": "671fcad2",
   "metadata": {},
   "outputs": [],
   "source": [
    "# html_page = client.read()\n",
    "# html_page"
   ]
  },
  {
   "cell_type": "code",
   "execution_count": 26,
   "id": "241c29f9",
   "metadata": {},
   "outputs": [],
   "source": [
    "html_page = client.read()\n",
    "client.close()\n",
    " # best practices includes closing client object\n",
    " # (keep the code as neat as possible)"
   ]
  },
  {
   "cell_type": "code",
   "execution_count": 27,
   "id": "9af6bd4f",
   "metadata": {},
   "outputs": [],
   "source": [
    "page_soup = soup(html_page)\n",
    "# page_soup\n",
    "# select the entire soup object.\n",
    "\n",
    "                # output too large. Uncomment the 2nd line above to see."
   ]
  },
  {
   "cell_type": "markdown",
   "id": "3e070f82",
   "metadata": {},
   "source": [
    "Technically we could navigate through the html scripts like this: "
   ]
  },
  {
   "cell_type": "code",
   "execution_count": 3,
   "id": "770ec926",
   "metadata": {},
   "outputs": [],
   "source": [
    "# page_soup.div"
   ]
  },
  {
   "cell_type": "markdown",
   "id": "8b057e30",
   "metadata": {},
   "source": [
    "This `.div` function selects the 1st `tag` in the entire `soup object` which exists as a `division` tag (.div). Its output is too large. Uncomment the cell above containing `page_soup.div` to see it.\n",
    "\n",
    "We can use the same function while browsing the html script, for instance:"
   ]
  },
  {
   "cell_type": "code",
   "execution_count": 15,
   "id": "623ed7e1",
   "metadata": {},
   "outputs": [
    {
     "data": {
      "text/plain": [
       "<a class=\"gh-acc-a\" href=\"#mainContent\" id=\"gh-hdn-stm\">Skip to main content</a>"
      ]
     },
     "execution_count": 15,
     "metadata": {},
     "output_type": "execute_result"
    }
   ],
   "source": [
    "page_soup.div.div.a"
   ]
  },
  {
   "cell_type": "markdown",
   "id": "3f3f565a",
   "metadata": {},
   "source": [
    "This is: inside the first div tag, select the next first div tag,\n",
    ", and inside this latter, select the `anchor/hyperlink` tag (.a). We could navigate html scripts utilizing these functions as follows, but it would get rather inefficient and tedious.\n",
    "\n",
    "That is why it's more convenient to use the method `find`. This is:\n",
    "\n",
    "\n"
   ]
  },
  {
   "cell_type": "code",
   "execution_count": 14,
   "id": "9a6ee261",
   "metadata": {},
   "outputs": [
    {
     "data": {
      "text/plain": [
       "<span class=\"s-item__price\"><!--F#f_0--><!--F#f_0-->$20.00<!--F/--><!--F/--></span>"
      ]
     },
     "execution_count": 14,
     "metadata": {},
     "output_type": "execute_result"
    }
   ],
   "source": [
    "# based on the tags and classes we're looking for:\n",
    "\n",
    "page_soup.find('span',\n",
    "               {'class' : 's-item__price'})\n",
    "# will automatically fetch the 1st item with span tag \n",
    "# under the the class name `s-item__price`"
   ]
  },
  {
   "cell_type": "code",
   "execution_count": 27,
   "id": "0aa2cd01",
   "metadata": {},
   "outputs": [
    {
     "data": {
      "text/plain": [
       "[<span class=\"s-item__price\"><!--F#f_0--><!--F#f_0-->$20.00<!--F/--><!--F/--></span>,\n",
       " <span class=\"s-item__price\"><!--F#f_0--><!--F#f_0-->$24.99<!--F/--><!--F/--></span>,\n",
       " <span class=\"s-item__price\"><!--F#f_0--><!--F#f_0-->$10.00<!--F/--><!--F/--></span>,\n",
       " <span class=\"s-item__price\"><!--F#f_0--><!--F#f_0-->$39.99<!--F/--><!--F/--></span>,\n",
       " <span class=\"s-item__price\"><!--F#f_0--><!--F#f_0-->$35.00<!--F/--><!--F/--></span>,\n",
       " <span class=\"s-item__price\"><!--F#f_0--><!--F#f_0-->$16.00<!--F/--><!--F/--></span>,\n",
       " <span class=\"s-item__price\"><!--F#f_0--><!--F#f_0-->$31.84<!--F/--><!--F/--></span>,\n",
       " <span class=\"s-item__price\"><!--F#f_0--><!--F#f_0-->$9.99<!--F/--><!--F/--></span>,\n",
       " <span class=\"s-item__price\"><!--F#f_0--><!--F#f_0-->$14.99<!--F/--><!--F/--></span>,\n",
       " <span class=\"s-item__price\"><!--F#f_0--><!--F#f_0-->$19.85<!--F/--><!--F/--></span>,\n",
       " <span class=\"s-item__price\"><!--F#f_0--><!--F#f_0-->$40.91<!--F/--><!--F/--></span>,\n",
       " <span class=\"s-item__price\"><!--F#f_0--><!--F#f_0-->$15.00<!--F/--><!--F/--></span>,\n",
       " <span class=\"s-item__price\"><!--F#f_0--><!--F#f_0-->$88.49<!--F/--><!--F#f_0--><span class=\"DEFAULT\"> to </span><!--F/--><!--F#f_0-->$89.64<!--F/--><!--F/--></span>,\n",
       " <span class=\"s-item__price\"><!--F#f_0--><!--F#f_0-->$29.98<!--F/--><!--F/--></span>,\n",
       " <span class=\"s-item__price\"><!--F#f_0--><!--F#f_0-->$25.00<!--F/--><!--F/--></span>,\n",
       " <span class=\"s-item__price\"><!--F#f_0--><!--F#f_0-->$64.49<!--F/--><!--F/--></span>,\n",
       " <span class=\"s-item__price\"><!--F#f_0--><!--F#f_0-->$38.42<!--F/--><!--F/--></span>,\n",
       " <span class=\"s-item__price\"><!--F#f_0--><!--F#f_0-->$39.99<!--F/--><!--F/--></span>,\n",
       " <span class=\"s-item__price\"><!--F#f_0--><!--F#f_0-->$50.00<!--F/--><!--F/--></span>,\n",
       " <span class=\"s-item__price\"><!--F#f_0--><!--F#f_0-->$58.00<!--F/--><!--F/--></span>,\n",
       " <span class=\"s-item__price\"><!--F#f_0--><!--F#f_0-->$39.99<!--F/--><!--F/--></span>,\n",
       " <span class=\"s-item__price\"><!--F#f_0--><!--F#f_0-->$50.00<!--F/--><!--F/--></span>,\n",
       " <span class=\"s-item__price\"><!--F#f_0--><!--F#f_0-->$20.24<!--F/--><!--F/--></span>,\n",
       " <span class=\"s-item__price\"><!--F#f_0--><!--F#f_0-->$43.95<!--F/--><!--F/--></span>,\n",
       " <span class=\"s-item__price\"><!--F#f_0--><!--F#f_0-->$89.45<!--F/--><!--F#f_0--><span class=\"DEFAULT\"> to </span><!--F/--><!--F#f_0-->$92.45<!--F/--><!--F/--></span>,\n",
       " <span class=\"s-item__price\"><!--F#f_0--><!--F#f_0-->$74.99<!--F/--><!--F/--></span>,\n",
       " <span class=\"s-item__price\"><!--F#f_0--><!--F#f_0-->$55.95<!--F/--><!--F/--></span>,\n",
       " <span class=\"s-item__price\"><!--F#f_0--><!--F#f_0-->$125.00<!--F/--><!--F/--></span>,\n",
       " <span class=\"s-item__price\"><!--F#f_0--><!--F#f_0-->$73.49<!--F/--><!--F/--></span>,\n",
       " <span class=\"s-item__price\"><!--F#f_0--><!--F#f_0-->$90.00<!--F/--><!--F/--></span>,\n",
       " <span class=\"s-item__price\"><!--F#f_0--><!--F#f_0-->$79.99<!--F/--><!--F/--></span>,\n",
       " <span class=\"s-item__price\"><!--F#f_0--><!--F#f_0-->$28.48<!--F/--><!--F/--></span>,\n",
       " <span class=\"s-item__price\"><!--F#f_0--><!--F#f_0-->$32.99<!--F/--><!--F/--></span>,\n",
       " <span class=\"s-item__price\"><!--F#f_0--><!--F#f_0-->$35.00<!--F/--><!--F/--></span>,\n",
       " <span class=\"s-item__price\"><!--F#f_0--><!--F#f_0-->$35.00<!--F/--><!--F/--></span>,\n",
       " <span class=\"s-item__price\"><!--F#f_0--><!--F#f_0-->$35.00<!--F/--><!--F/--></span>,\n",
       " <span class=\"s-item__price\"><!--F#f_0--><!--F#f_0-->$35.00<!--F/--><!--F/--></span>,\n",
       " <span class=\"s-item__price\"><!--F#f_0--><!--F#f_0-->$35.00<!--F/--><!--F/--></span>,\n",
       " <span class=\"s-item__price\"><!--F#f_0--><!--F#f_0-->$36.99<!--F/--><!--F/--></span>,\n",
       " <span class=\"s-item__price\"><!--F#f_0--><!--F#f_0-->$37.99<!--F/--><!--F/--></span>,\n",
       " <span class=\"s-item__price\"><!--F#f_0--><!--F#f_0-->$41.98<!--F/--><!--F/--></span>,\n",
       " <span class=\"s-item__price\"><!--F#f_0--><!--F#f_0-->$45.00<!--F/--><!--F/--></span>,\n",
       " <span class=\"s-item__price\"><!--F#f_0--><!--F#f_0-->$45.00<!--F/--><!--F/--></span>,\n",
       " <span class=\"s-item__price\"><!--F#f_0--><!--F#f_0-->$45.00<!--F/--><!--F/--></span>,\n",
       " <span class=\"s-item__price\"><!--F#f_0--><!--F#f_0-->$45.00<!--F/--><!--F/--></span>,\n",
       " <span class=\"s-item__price\"><!--F#f_0--><!--F#f_0-->$50.00<!--F/--><!--F/--></span>,\n",
       " <span class=\"s-item__price\"><!--F#f_0--><!--F#f_0-->$50.00<!--F/--><!--F/--></span>,\n",
       " <span class=\"s-item__price\"><!--F#f_0--><!--F#f_0-->$60.00<!--F/--><!--F/--></span>,\n",
       " <span class=\"s-item__price\"><!--F#f_0--><!--F#f_0-->$65.00<!--F/--><!--F/--></span>,\n",
       " <span class=\"s-item__price\"><!--F#f_0--><!--F#f_0-->$65.62<!--F/--><!--F/--></span>,\n",
       " <span class=\"s-item__price\"><!--F#f_0--><!--F#f_0-->$66.30<!--F/--><!--F/--></span>,\n",
       " <span class=\"s-item__price\"><!--F#f_0--><!--F#f_0-->$69.99<!--F/--><!--F/--></span>,\n",
       " <span class=\"s-item__price\"><!--F#f_0--><!--F#f_0-->$75.00<!--F/--><!--F/--></span>,\n",
       " <span class=\"s-item__price\"><!--F#f_0--><!--F#f_0-->$75.00<!--F/--><!--F/--></span>,\n",
       " <span class=\"s-item__price\"><!--F#f_0--><!--F#f_0-->$75.00<!--F/--><!--F/--></span>,\n",
       " <span class=\"s-item__price\"><!--F#f_0--><!--F#f_0-->$75.99<!--F/--><!--F/--></span>,\n",
       " <span class=\"s-item__price\"><!--F#f_0--><!--F#f_0-->$7.99<!--F/--><!--F#f_0--><span class=\"DEFAULT\"> to </span><!--F/--><!--F#f_0-->$75.99<!--F/--><!--F/--></span>,\n",
       " <span class=\"s-item__price\"><!--F#f_0--><!--F#f_0-->$87.99<!--F/--><!--F/--></span>,\n",
       " <span class=\"s-item__price\"><!--F#f_0--><!--F#f_0-->$89.95<!--F/--><!--F/--></span>,\n",
       " <span class=\"s-item__price\"><!--F#f_0--><!--F#f_0-->$93.84<!--F/--><!--F/--></span>,\n",
       " <span class=\"s-item__price\"><!--F#f_0--><!--F#f_0-->$101.62<!--F/--><!--F/--></span>,\n",
       " <span class=\"s-item__price\"><!--F#f_0--><!--F#f_0-->$165.00<!--F/--><!--F/--></span>]"
      ]
     },
     "execution_count": 27,
     "metadata": {},
     "output_type": "execute_result"
    }
   ],
   "source": [
    "page_soup.findAll('span',\n",
    "               {'class' : 's-item__price'})\n",
    "# fetch them all.."
   ]
  },
  {
   "cell_type": "code",
   "execution_count": 74,
   "id": "39755b8f",
   "metadata": {},
   "outputs": [
    {
     "data": {
      "text/plain": [
       "[<span class=\"s-item__price\"><!--F#f_0--><!--F#f_0-->$24.99<!--F/--><!--F/--></span>,\n",
       " <span class=\"s-item__price\"><!--F#f_0--><!--F#f_0-->$10.00<!--F/--><!--F/--></span>,\n",
       " <span class=\"s-item__price\"><!--F#f_0--><!--F#f_0-->$39.99<!--F/--><!--F/--></span>,\n",
       " <span class=\"s-item__price\"><!--F#f_0--><!--F#f_0-->$35.00<!--F/--><!--F/--></span>]"
      ]
     },
     "execution_count": 74,
     "metadata": {},
     "output_type": "execute_result"
    }
   ],
   "source": [
    "page_soup.findAll('span',\n",
    "               {'class' : 's-item__price'})[1:5]\n",
    "#...or just an interval"
   ]
  },
  {
   "cell_type": "code",
   "execution_count": 28,
   "id": "72ba0703",
   "metadata": {},
   "outputs": [
    {
     "data": {
      "text/plain": [
       "'$10.00'"
      ]
     },
     "execution_count": 28,
     "metadata": {},
     "output_type": "execute_result"
    }
   ],
   "source": [
    "page_soup.findAll('span',\n",
    "               {'class' : 's-item__price'})[2].text\n",
    "# select what's in the index #3"
   ]
  },
  {
   "cell_type": "code",
   "execution_count": 29,
   "id": "cfa98e4d",
   "metadata": {},
   "outputs": [
    {
     "data": {
      "text/plain": [
       "str"
      ]
     },
     "execution_count": 29,
     "metadata": {},
     "output_type": "execute_result"
    }
   ],
   "source": [
    "third_price = page_soup.findAll('span',\n",
    "               {'class' : 's-item__price'})[2].text\n",
    "\n",
    "# we confirm the type of it\n",
    "type(third_price)"
   ]
  },
  {
   "cell_type": "code",
   "execution_count": 17,
   "id": "ee08b698",
   "metadata": {},
   "outputs": [
    {
     "data": {
      "text/plain": [
       "['24.99', '10.00', '39.99', '35.00']"
      ]
     },
     "execution_count": 17,
     "metadata": {},
     "output_type": "execute_result"
    }
   ],
   "source": [
    "span_tag = page_soup.findAll('span',\n",
    "               {'class' : 's-item__price'})\n",
    "\n",
    "prices = []\n",
    "\n",
    "for i in span_tag:\n",
    "    prices.append(i.text[1:])\n",
    "    # storing just after the $ sign  \n",
    "    # (assuming they exist solely at the beginning of each string)\n",
    "\n",
    "    \n",
    "prices[1:5] \n",
    "#just fetch these of this range"
   ]
  },
  {
   "cell_type": "code",
   "execution_count": 18,
   "id": "d0587faf",
   "metadata": {},
   "outputs": [
    {
     "data": {
      "text/plain": [
       "bs4.element.ResultSet"
      ]
     },
     "execution_count": 18,
     "metadata": {},
     "output_type": "execute_result"
    }
   ],
   "source": [
    "type(span_tag)\n"
   ]
  },
  {
   "cell_type": "code",
   "execution_count": 61,
   "id": "29a3cc1f",
   "metadata": {},
   "outputs": [
    {
     "data": {
      "text/plain": [
       "str"
      ]
     },
     "execution_count": 61,
     "metadata": {},
     "output_type": "execute_result"
    }
   ],
   "source": [
    "type(prices[2])"
   ]
  },
  {
   "cell_type": "code",
   "execution_count": 70,
   "id": "ea9e661c",
   "metadata": {},
   "outputs": [
    {
     "ename": "ValueError",
     "evalue": "Unable to parse string \"88.49 to $89.64\" at position 13",
     "output_type": "error",
     "traceback": [
      "\u001b[1;31m---------------------------------------------------------------------------\u001b[0m",
      "\u001b[1;31mValueError\u001b[0m                                Traceback (most recent call last)",
      "File \u001b[1;32mc:\\Users\\gerar\\AppData\\Local\\Programs\\Python\\Python311\\Lib\\site-packages\\pandas\\_libs\\lib.pyx:2280\u001b[0m, in \u001b[0;36mpandas._libs.lib.maybe_convert_numeric\u001b[1;34m()\u001b[0m\n",
      "\u001b[1;31mValueError\u001b[0m: Unable to parse string \"88.49 to $89.64\"",
      "\nDuring handling of the above exception, another exception occurred:\n",
      "\u001b[1;31mValueError\u001b[0m                                Traceback (most recent call last)",
      "\u001b[1;32mc:\\Users\\gerar\\Documents\\a.data_analisys\\2.portfolio projects\\0.committed\\3. web_scraping\\1.amazon\\scripts\\web_scraping_ebay_2.ipynb Cell 22\u001b[0m line \u001b[0;36m1\n\u001b[1;32m----> <a href='vscode-notebook-cell:/c%3A/Users/gerar/Documents/a.data_analisys/2.portfolio%20projects/0.committed/3.%20web_scraping/1.amazon/scripts/web_scraping_ebay_2.ipynb#X30sZmlsZQ%3D%3D?line=0'>1</a>\u001b[0m numeric_array \u001b[39m=\u001b[39m pd\u001b[39m.\u001b[39;49mto_numeric(prices)\n\u001b[0;32m      <a href='vscode-notebook-cell:/c%3A/Users/gerar/Documents/a.data_analisys/2.portfolio%20projects/0.committed/3.%20web_scraping/1.amazon/scripts/web_scraping_ebay_2.ipynb#X30sZmlsZQ%3D%3D?line=1'>2</a>\u001b[0m \u001b[39m# we better to convert then into numeric values \u001b[39;00m\n\u001b[0;32m      <a href='vscode-notebook-cell:/c%3A/Users/gerar/Documents/a.data_analisys/2.portfolio%20projects/0.committed/3.%20web_scraping/1.amazon/scripts/web_scraping_ebay_2.ipynb#X30sZmlsZQ%3D%3D?line=2'>3</a>\u001b[0m \u001b[39m# before creating our dataframe\u001b[39;00m\n",
      "File \u001b[1;32mc:\\Users\\gerar\\AppData\\Local\\Programs\\Python\\Python311\\Lib\\site-packages\\pandas\\core\\tools\\numeric.py:217\u001b[0m, in \u001b[0;36mto_numeric\u001b[1;34m(arg, errors, downcast, dtype_backend)\u001b[0m\n\u001b[0;32m    215\u001b[0m coerce_numeric \u001b[39m=\u001b[39m errors \u001b[39mnot\u001b[39;00m \u001b[39min\u001b[39;00m (\u001b[39m\"\u001b[39m\u001b[39mignore\u001b[39m\u001b[39m\"\u001b[39m, \u001b[39m\"\u001b[39m\u001b[39mraise\u001b[39m\u001b[39m\"\u001b[39m)\n\u001b[0;32m    216\u001b[0m \u001b[39mtry\u001b[39;00m:\n\u001b[1;32m--> 217\u001b[0m     values, new_mask \u001b[39m=\u001b[39m lib\u001b[39m.\u001b[39;49mmaybe_convert_numeric(  \u001b[39m# type: ignore[call-overload]  # noqa\u001b[39;49;00m\n\u001b[0;32m    218\u001b[0m         values,\n\u001b[0;32m    219\u001b[0m         \u001b[39mset\u001b[39;49m(),\n\u001b[0;32m    220\u001b[0m         coerce_numeric\u001b[39m=\u001b[39;49mcoerce_numeric,\n\u001b[0;32m    221\u001b[0m         convert_to_masked_nullable\u001b[39m=\u001b[39;49mdtype_backend \u001b[39mis\u001b[39;49;00m \u001b[39mnot\u001b[39;49;00m lib\u001b[39m.\u001b[39;49mno_default\n\u001b[0;32m    222\u001b[0m         \u001b[39mor\u001b[39;49;00m \u001b[39misinstance\u001b[39;49m(values_dtype, StringDtype),\n\u001b[0;32m    223\u001b[0m     )\n\u001b[0;32m    224\u001b[0m \u001b[39mexcept\u001b[39;00m (\u001b[39mValueError\u001b[39;00m, \u001b[39mTypeError\u001b[39;00m):\n\u001b[0;32m    225\u001b[0m     \u001b[39mif\u001b[39;00m errors \u001b[39m==\u001b[39m \u001b[39m\"\u001b[39m\u001b[39mraise\u001b[39m\u001b[39m\"\u001b[39m:\n",
      "File \u001b[1;32mc:\\Users\\gerar\\AppData\\Local\\Programs\\Python\\Python311\\Lib\\site-packages\\pandas\\_libs\\lib.pyx:2322\u001b[0m, in \u001b[0;36mpandas._libs.lib.maybe_convert_numeric\u001b[1;34m()\u001b[0m\n",
      "\u001b[1;31mValueError\u001b[0m: Unable to parse string \"88.49 to $89.64\" at position 13"
     ]
    }
   ],
   "source": [
    "numeric_array = pd.to_numeric(prices)\n",
    "# we better to convert then into numeric values \n",
    "# before creating our dataframe"
   ]
  },
  {
   "cell_type": "code",
   "execution_count": 23,
   "id": "c4f0bb0e",
   "metadata": {},
   "outputs": [
    {
     "data": {
      "text/plain": [
       "['9.99',\n",
       " '14.99',\n",
       " '19.85',\n",
       " '40.91',\n",
       " '15.00',\n",
       " '35.00',\n",
       " '88.49 to $89.64',\n",
       " '29.98',\n",
       " '25.00',\n",
       " '64.49',\n",
       " '38.42']"
      ]
     },
     "execution_count": 23,
     "metadata": {},
     "output_type": "execute_result"
    }
   ],
   "source": [
    "# Python complains for there are also other $ signs in possitions other than intial one\n",
    "prices[7:18]"
   ]
  },
  {
   "cell_type": "code",
   "execution_count": 71,
   "id": "513fa28d",
   "metadata": {},
   "outputs": [
    {
     "data": {
      "text/plain": [
       "array([ 20.  ,  24.99,  10.  ,  39.99,  35.  ,  16.  ,  31.84,   9.99,\n",
       "        14.99,  19.85,  40.91,  15.  ,  35.  ,    nan,  29.98,  25.  ,\n",
       "        64.49,  38.42,  39.99,  50.  ,  58.  ,  39.99,  50.  ,  20.24,\n",
       "        43.95,    nan,  74.99,  55.95, 125.  ,  73.49,  90.  ,  79.99,\n",
       "        28.48,  32.99,  35.  ,  35.  ,  35.  ,  35.  ,  35.  ,  36.09,\n",
       "        37.99,  45.  ,  45.  ,  45.  ,  45.  ,  50.  ,  50.  ,  59.97,\n",
       "        60.  ,  65.  ,  66.3 ,  66.49,  75.  ,  75.  ,  75.  ,  75.99,\n",
       "          nan,  87.99,  89.95,  93.84, 101.62, 165.  ])"
      ]
     },
     "execution_count": 71,
     "metadata": {},
     "output_type": "execute_result"
    }
   ],
   "source": [
    "numeric_array = pd.to_numeric(prices,\n",
    "                             errors = 'coerce')\n",
    "# we pass the argument 'coerce' so that \n",
    "# if there's any non-numeric value, it returns a null value\n",
    "\n",
    "numeric_array\n"
   ]
  },
  {
   "cell_type": "code",
   "execution_count": 72,
   "id": "a884cfc4",
   "metadata": {},
   "outputs": [
    {
     "data": {
      "text/plain": [
       "0    3\n",
       "dtype: int64"
      ]
     },
     "execution_count": 72,
     "metadata": {},
     "output_type": "execute_result"
    }
   ],
   "source": [
    "df = pd.DataFrame(numeric_array)\n",
    "df.isnull().sum()\n"
   ]
  },
  {
   "cell_type": "code",
   "execution_count": 93,
   "id": "1a4d0383",
   "metadata": {},
   "outputs": [
    {
     "data": {
      "text/plain": [
       "0    0\n",
       "dtype: int64"
      ]
     },
     "execution_count": 93,
     "metadata": {},
     "output_type": "execute_result"
    }
   ],
   "source": [
    "df_hike_gear_p = df.dropna() \n",
    "# We are not touching the original df.\n",
    "# Plus, better to classify a specific dataframe \n",
    "\n",
    "df_hike_gear_p.isnull().sum()\n"
   ]
  },
  {
   "cell_type": "code",
   "execution_count": 94,
   "id": "f295d140",
   "metadata": {},
   "outputs": [
    {
     "data": {
      "text/html": [
       "<div>\n",
       "<style scoped>\n",
       "    .dataframe tbody tr th:only-of-type {\n",
       "        vertical-align: middle;\n",
       "    }\n",
       "\n",
       "    .dataframe tbody tr th {\n",
       "        vertical-align: top;\n",
       "    }\n",
       "\n",
       "    .dataframe thead th {\n",
       "        text-align: right;\n",
       "    }\n",
       "</style>\n",
       "<table border=\"1\" class=\"dataframe\">\n",
       "  <thead>\n",
       "    <tr style=\"text-align: right;\">\n",
       "      <th></th>\n",
       "      <th>0</th>\n",
       "    </tr>\n",
       "  </thead>\n",
       "  <tbody>\n",
       "    <tr>\n",
       "      <th>0</th>\n",
       "      <td>20.00</td>\n",
       "    </tr>\n",
       "    <tr>\n",
       "      <th>1</th>\n",
       "      <td>24.99</td>\n",
       "    </tr>\n",
       "    <tr>\n",
       "      <th>2</th>\n",
       "      <td>10.00</td>\n",
       "    </tr>\n",
       "    <tr>\n",
       "      <th>3</th>\n",
       "      <td>39.99</td>\n",
       "    </tr>\n",
       "    <tr>\n",
       "      <th>4</th>\n",
       "      <td>35.00</td>\n",
       "    </tr>\n",
       "  </tbody>\n",
       "</table>\n",
       "</div>"
      ],
      "text/plain": [
       "       0\n",
       "0  20.00\n",
       "1  24.99\n",
       "2  10.00\n",
       "3  39.99\n",
       "4  35.00"
      ]
     },
     "execution_count": 94,
     "metadata": {},
     "output_type": "execute_result"
    }
   ],
   "source": [
    "df_hike_gear_p.head()"
   ]
  },
  {
   "cell_type": "code",
   "execution_count": 75,
   "id": "38084109",
   "metadata": {},
   "outputs": [
    {
     "data": {
      "text/html": [
       "<div>\n",
       "<style scoped>\n",
       "    .dataframe tbody tr th:only-of-type {\n",
       "        vertical-align: middle;\n",
       "    }\n",
       "\n",
       "    .dataframe tbody tr th {\n",
       "        vertical-align: top;\n",
       "    }\n",
       "\n",
       "    .dataframe thead th {\n",
       "        text-align: right;\n",
       "    }\n",
       "</style>\n",
       "<table border=\"1\" class=\"dataframe\">\n",
       "  <thead>\n",
       "    <tr style=\"text-align: right;\">\n",
       "      <th></th>\n",
       "      <th>0</th>\n",
       "    </tr>\n",
       "  </thead>\n",
       "  <tbody>\n",
       "    <tr>\n",
       "      <th>57</th>\n",
       "      <td>87.99</td>\n",
       "    </tr>\n",
       "    <tr>\n",
       "      <th>58</th>\n",
       "      <td>89.95</td>\n",
       "    </tr>\n",
       "    <tr>\n",
       "      <th>59</th>\n",
       "      <td>93.84</td>\n",
       "    </tr>\n",
       "    <tr>\n",
       "      <th>60</th>\n",
       "      <td>101.62</td>\n",
       "    </tr>\n",
       "    <tr>\n",
       "      <th>61</th>\n",
       "      <td>165.00</td>\n",
       "    </tr>\n",
       "  </tbody>\n",
       "</table>\n",
       "</div>"
      ],
      "text/plain": [
       "         0\n",
       "57   87.99\n",
       "58   89.95\n",
       "59   93.84\n",
       "60  101.62\n",
       "61  165.00"
      ]
     },
     "execution_count": 75,
     "metadata": {},
     "output_type": "execute_result"
    }
   ],
   "source": [
    "df_hike_gear_p.tail()"
   ]
  },
  {
   "cell_type": "markdown",
   "id": "a9dd1525",
   "metadata": {},
   "source": [
    "Getting the indexing right and named ( and the column as well )"
   ]
  },
  {
   "cell_type": "code",
   "execution_count": 95,
   "id": "88f680fe",
   "metadata": {},
   "outputs": [
    {
     "data": {
      "text/html": [
       "<div>\n",
       "<style scoped>\n",
       "    .dataframe tbody tr th:only-of-type {\n",
       "        vertical-align: middle;\n",
       "    }\n",
       "\n",
       "    .dataframe tbody tr th {\n",
       "        vertical-align: top;\n",
       "    }\n",
       "\n",
       "    .dataframe thead th {\n",
       "        text-align: right;\n",
       "    }\n",
       "</style>\n",
       "<table border=\"1\" class=\"dataframe\">\n",
       "  <thead>\n",
       "    <tr style=\"text-align: right;\">\n",
       "      <th></th>\n",
       "      <th>price</th>\n",
       "    </tr>\n",
       "    <tr>\n",
       "      <th>index</th>\n",
       "      <th></th>\n",
       "    </tr>\n",
       "  </thead>\n",
       "  <tbody>\n",
       "    <tr>\n",
       "      <th>1</th>\n",
       "      <td>20.00</td>\n",
       "    </tr>\n",
       "    <tr>\n",
       "      <th>2</th>\n",
       "      <td>24.99</td>\n",
       "    </tr>\n",
       "    <tr>\n",
       "      <th>3</th>\n",
       "      <td>10.00</td>\n",
       "    </tr>\n",
       "    <tr>\n",
       "      <th>4</th>\n",
       "      <td>39.99</td>\n",
       "    </tr>\n",
       "  </tbody>\n",
       "</table>\n",
       "</div>"
      ],
      "text/plain": [
       "       price\n",
       "index       \n",
       "1      20.00\n",
       "2      24.99\n",
       "3      10.00\n",
       "4      39.99"
      ]
     },
     "execution_count": 95,
     "metadata": {},
     "output_type": "execute_result"
    }
   ],
   "source": [
    "df_hike_gear_p.columns = ['price']\n",
    "# we name the column as 'shipping_price'\n",
    "\n",
    "df_hike_gear_p.index = np.arange(1,\n",
    "                                len(df_hike_gear_p) + 1)\n",
    "# set the starting point of indexing as int 1\n",
    "\n",
    "df_hike_gear_p.index.name = 'index'\n",
    "# we name the index column as such\n",
    "\n",
    "df_hike_gear_p.head(4)"
   ]
  },
  {
   "cell_type": "code",
   "execution_count": 97,
   "metadata": {},
   "outputs": [
    {
     "data": {
      "text/plain": [
       "price    0\n",
       "dtype: int64"
      ]
     },
     "execution_count": 97,
     "metadata": {},
     "output_type": "execute_result"
    }
   ],
   "source": [
    "df_hike_gear_p.isnull().sum()\n"
   ]
  },
  {
   "cell_type": "code",
   "execution_count": 98,
   "id": "3f16159d",
   "metadata": {},
   "outputs": [],
   "source": [
    "df_hike_gear_p.to_csv('hiking_gear_price.csv')"
   ]
  },
  {
   "cell_type": "markdown",
   "id": "8589a6b3",
   "metadata": {},
   "source": []
  },
  {
   "cell_type": "markdown",
   "id": "9093bd3a",
   "metadata": {},
   "source": [
    "#### What follows from here on is not appearing in the mentioned github repo"
   ]
  },
  {
   "cell_type": "markdown",
   "id": "a1e0aa3c",
   "metadata": {},
   "source": [
    "##### Using the variable `key_word_search` when passing the website URL for  \"Machine Learning books\""
   ]
  },
  {
   "cell_type": "code",
   "execution_count": 2,
   "id": "61775774",
   "metadata": {},
   "outputs": [
    {
     "data": {
      "text/plain": [
       "'https://www.ebay.com/sch/i.html?_from=R40&_nkw=machine+learning+books&_sacat=0&LH_TitleDesc=0&_sop=15'"
      ]
     },
     "execution_count": 2,
     "metadata": {},
     "output_type": "execute_result"
    }
   ],
   "source": [
    "key_word_search = 'machine+learning+books'\n",
    "# new search target\n",
    "\n",
    "url = 'https://www.ebay.com/sch/i.html?_from=R40&_nkw={}&_sacat=0&LH_TitleDesc=0&_sop=15'.format(key_word_search)\n",
    "url"
   ]
  },
  {
   "cell_type": "code",
   "execution_count": 3,
   "id": "120f1339",
   "metadata": {},
   "outputs": [
    {
     "data": {
      "text/plain": [
       "<http.client.HTTPResponse at 0x192b224ba00>"
      ]
     },
     "execution_count": 3,
     "metadata": {},
     "output_type": "execute_result"
    }
   ],
   "source": [
    "client = uReq(url)\n",
    "client\n",
    "# http client object is given"
   ]
  },
  {
   "cell_type": "code",
   "execution_count": 4,
   "id": "1ab412fc",
   "metadata": {},
   "outputs": [],
   "source": [
    "html_page = client.read()\n",
    "client.close()\n",
    " # best practices includes closing client object\n",
    " # (keep the code as neat as possible)"
   ]
  },
  {
   "cell_type": "code",
   "execution_count": 5,
   "id": "c70161f0",
   "metadata": {},
   "outputs": [],
   "source": [
    "page_soup = soup(html_page)\n",
    "# page_soup\n",
    "# select the entire soup object\n",
    "\n",
    "                # too large. Uncomment the 2nd line above to see."
   ]
  },
  {
   "cell_type": "code",
   "execution_count": 6,
   "id": "55b1704d",
   "metadata": {},
   "outputs": [
    {
     "data": {
      "text/plain": [
       "['Shop on eBay',\n",
       " 'Machine Learning: 2 Books in 1: An Introduction Math Guide for Beginners to Unde',\n",
       " 'Freehand Machine Embroidery: Learning to draw with your sewing m',\n",
       " 'Machine Learning for Absolute Beginners: A Plain English Introdu',\n",
       " 'Machine Learning with Tensorflow by Shukla, Nishant',\n",
       " 'Machine Learning revised and updated edition by Ethem Alpaydin  NEW Book']"
      ]
     },
     "execution_count": 6,
     "metadata": {},
     "output_type": "execute_result"
    }
   ],
   "source": [
    "span_tag = page_soup.findAll('span',\n",
    "               {'role' : 'heading'})\n",
    "# title of the books: \n",
    "\n",
    "titles = []\n",
    "\n",
    "for i in span_tag:\n",
    "    titles.append(i.text)\n",
    "    # no need to exclude any indexes here\n",
    "        \n",
    "titles[0:6]\n",
    "# just fetching these"
   ]
  },
  {
   "cell_type": "code",
   "execution_count": 62,
   "id": "cde84324",
   "metadata": {},
   "outputs": [
    {
     "data": {
      "text/plain": [
       "'https://www.ebay.com/sch/i.html?_from=R40&_nkw=machine+learning+books&_sacat=0&LH_TitleDesc=0&_sop=15'"
      ]
     },
     "execution_count": 62,
     "metadata": {},
     "output_type": "execute_result"
    }
   ],
   "source": [
    "# we check out this is how it's written on the original website\n",
    "url"
   ]
  },
  {
   "cell_type": "code",
   "execution_count": 9,
   "id": "a51ffbed",
   "metadata": {},
   "outputs": [
    {
     "data": {
      "text/html": [
       "<div>\n",
       "<style scoped>\n",
       "    .dataframe tbody tr th:only-of-type {\n",
       "        vertical-align: middle;\n",
       "    }\n",
       "\n",
       "    .dataframe tbody tr th {\n",
       "        vertical-align: top;\n",
       "    }\n",
       "\n",
       "    .dataframe thead th {\n",
       "        text-align: right;\n",
       "    }\n",
       "</style>\n",
       "<table border=\"1\" class=\"dataframe\">\n",
       "  <thead>\n",
       "    <tr style=\"text-align: right;\">\n",
       "      <th></th>\n",
       "      <th>0</th>\n",
       "    </tr>\n",
       "  </thead>\n",
       "  <tbody>\n",
       "    <tr>\n",
       "      <th>0</th>\n",
       "      <td>Shop on eBay</td>\n",
       "    </tr>\n",
       "    <tr>\n",
       "      <th>1</th>\n",
       "      <td>Machine Learning: 2 Books in 1: An Introductio...</td>\n",
       "    </tr>\n",
       "    <tr>\n",
       "      <th>2</th>\n",
       "      <td>Freehand Machine Embroidery: Learning to draw ...</td>\n",
       "    </tr>\n",
       "    <tr>\n",
       "      <th>3</th>\n",
       "      <td>Machine Learning for Absolute Beginners: A Pla...</td>\n",
       "    </tr>\n",
       "    <tr>\n",
       "      <th>4</th>\n",
       "      <td>Machine Learning with Tensorflow by Shukla, Ni...</td>\n",
       "    </tr>\n",
       "    <tr>\n",
       "      <th>5</th>\n",
       "      <td>Machine Learning revised and updated edition b...</td>\n",
       "    </tr>\n",
       "    <tr>\n",
       "      <th>6</th>\n",
       "      <td>Machine Learning For Beginners</td>\n",
       "    </tr>\n",
       "  </tbody>\n",
       "</table>\n",
       "</div>"
      ],
      "text/plain": [
       "                                                   0\n",
       "0                                       Shop on eBay\n",
       "1  Machine Learning: 2 Books in 1: An Introductio...\n",
       "2  Freehand Machine Embroidery: Learning to draw ...\n",
       "3  Machine Learning for Absolute Beginners: A Pla...\n",
       "4  Machine Learning with Tensorflow by Shukla, Ni...\n",
       "5  Machine Learning revised and updated edition b...\n",
       "6                     Machine Learning For Beginners"
      ]
     },
     "execution_count": 9,
     "metadata": {},
     "output_type": "execute_result"
    }
   ],
   "source": [
    "df_titles = pd.DataFrame(titles)\n",
    "\n",
    "df_titles.head(7)\n"
   ]
  },
  {
   "cell_type": "code",
   "execution_count": 10,
   "id": "0611fb01",
   "metadata": {},
   "outputs": [
    {
     "data": {
      "text/html": [
       "<div>\n",
       "<style scoped>\n",
       "    .dataframe tbody tr th:only-of-type {\n",
       "        vertical-align: middle;\n",
       "    }\n",
       "\n",
       "    .dataframe tbody tr th {\n",
       "        vertical-align: top;\n",
       "    }\n",
       "\n",
       "    .dataframe thead th {\n",
       "        text-align: right;\n",
       "    }\n",
       "</style>\n",
       "<table border=\"1\" class=\"dataframe\">\n",
       "  <thead>\n",
       "    <tr style=\"text-align: right;\">\n",
       "      <th></th>\n",
       "      <th>titles</th>\n",
       "    </tr>\n",
       "    <tr>\n",
       "      <th>index</th>\n",
       "      <th></th>\n",
       "    </tr>\n",
       "  </thead>\n",
       "  <tbody>\n",
       "    <tr>\n",
       "      <th>1</th>\n",
       "      <td>Machine Learning: 2 Books in 1: An Introductio...</td>\n",
       "    </tr>\n",
       "    <tr>\n",
       "      <th>2</th>\n",
       "      <td>Freehand Machine Embroidery: Learning to draw ...</td>\n",
       "    </tr>\n",
       "    <tr>\n",
       "      <th>3</th>\n",
       "      <td>Machine Learning for Absolute Beginners: A Pla...</td>\n",
       "    </tr>\n",
       "    <tr>\n",
       "      <th>4</th>\n",
       "      <td>Machine Learning with Tensorflow by Shukla, Ni...</td>\n",
       "    </tr>\n",
       "    <tr>\n",
       "      <th>5</th>\n",
       "      <td>Machine Learning revised and updated edition b...</td>\n",
       "    </tr>\n",
       "    <tr>\n",
       "      <th>6</th>\n",
       "      <td>Machine Learning For Beginners</td>\n",
       "    </tr>\n",
       "  </tbody>\n",
       "</table>\n",
       "</div>"
      ],
      "text/plain": [
       "                                                  titles\n",
       "index                                                   \n",
       "1      Machine Learning: 2 Books in 1: An Introductio...\n",
       "2      Freehand Machine Embroidery: Learning to draw ...\n",
       "3      Machine Learning for Absolute Beginners: A Pla...\n",
       "4      Machine Learning with Tensorflow by Shukla, Ni...\n",
       "5      Machine Learning revised and updated edition b...\n",
       "6                         Machine Learning For Beginners"
      ]
     },
     "execution_count": 10,
     "metadata": {},
     "output_type": "execute_result"
    }
   ],
   "source": [
    "df_titles = df_titles\\\n",
    "    .drop(df_titles.index[0])\\\n",
    "        .reset_index(drop = True)\n",
    "# we drop the first observation 'Shop on eBay`,\n",
    "# and also reset the index\n",
    "\n",
    "df_titles.columns = ['titles']\n",
    "# we name the column as 'titles'..\n",
    "\n",
    "df_titles.index = np.arange(1,\n",
    "                                len(df_titles) + 1)\n",
    "# set the starting point of indexing as int 1\n",
    "\n",
    "df_titles.index.name = 'index'\n",
    "# ..and the index column as such\n",
    "\n",
    "df_titles.head(6)\n",
    "\n"
   ]
  },
  {
   "cell_type": "code",
   "execution_count": 31,
   "id": "1384c4cb",
   "metadata": {},
   "outputs": [
    {
     "data": {
      "text/plain": [
       "titles    0\n",
       "dtype: int64"
      ]
     },
     "execution_count": 31,
     "metadata": {},
     "output_type": "execute_result"
    }
   ],
   "source": [
    "# the result above checks\n",
    "\n",
    "df_titles.isnull().sum()\n",
    "# any Nans?"
   ]
  },
  {
   "cell_type": "code",
   "execution_count": 11,
   "id": "aba3f613",
   "metadata": {},
   "outputs": [],
   "source": [
    "# no need to drop any then\n",
    "\n",
    "df_titles.to_csv('df_titles_{}.csv'.\\\n",
    "                 format(key_word_search))\n",
    "# since we are using the variable 'key_word_search'\n",
    "# we utilize the method `.format()`"
   ]
  },
  {
   "cell_type": "markdown",
   "id": "10b19d8b",
   "metadata": {},
   "source": [
    "#### Getting other fields of data: shipping costs and country of provenance"
   ]
  },
  {
   "cell_type": "markdown",
   "id": "7c85aebb",
   "metadata": {},
   "source": [
    "#### \n",
    "Shipping costs"
   ]
  },
  {
   "cell_type": "code",
   "execution_count": 33,
   "id": "d0c63698",
   "metadata": {},
   "outputs": [
    {
     "data": {
      "text/plain": [
       "['$2.39 shipping',\n",
       " '$2.39 shipping',\n",
       " '$10.81 shipping',\n",
       " '$3.62 shipping',\n",
       " '$9.50 shipping']"
      ]
     },
     "execution_count": 33,
     "metadata": {},
     "output_type": "execute_result"
    }
   ],
   "source": [
    "span_tag = page_soup.findAll('span',\n",
    "               {'class' : 's-item__shipping s-item__logisticsCost'})\n",
    "\n",
    "shipprice = []\n",
    "\n",
    "for i in span_tag:\n",
    "    shipprice.append(i.text[1:])\n",
    "    # storing just after the $ sign  \n",
    "    # (assuming they exist solely at the beginning of each string)\n",
    "\n",
    "    \n",
    "shipprice[1:6] \n",
    "#just fetch these of this range"
   ]
  },
  {
   "cell_type": "code",
   "execution_count": 34,
   "id": "bb11cf58",
   "metadata": {},
   "outputs": [
    {
     "data": {
      "text/plain": [
       "['2.39 ', '2.39 ', '10.81 ', '3.62 ', '9.50 ']"
      ]
     },
     "execution_count": 34,
     "metadata": {},
     "output_type": "execute_result"
    }
   ],
   "source": [
    "span_tag = page_soup.findAll('span',\n",
    "               {'class' : 's-item__shipping s-item__logisticsCost'})\n",
    "\n",
    "shipprice = []\n",
    "\n",
    "for i in span_tag:\n",
    "    shipprice.append(i.text[2:]\\\n",
    "                          .replace('shipping'\n",
    "                                   ,''))\n",
    "    # storing just after the $ sign, this is from possition #3 \n",
    "    # ridding the result from word `shipping` \n",
    "\n",
    "    \n",
    "shipprice[1:6] \n",
    "#just fetch these of this range"
   ]
  },
  {
   "cell_type": "code",
   "execution_count": 35,
   "id": "a58c4487",
   "metadata": {},
   "outputs": [
    {
     "data": {
      "text/html": [
       "<div>\n",
       "<style scoped>\n",
       "    .dataframe tbody tr th:only-of-type {\n",
       "        vertical-align: middle;\n",
       "    }\n",
       "\n",
       "    .dataframe tbody tr th {\n",
       "        vertical-align: top;\n",
       "    }\n",
       "\n",
       "    .dataframe thead th {\n",
       "        text-align: right;\n",
       "    }\n",
       "</style>\n",
       "<table border=\"1\" class=\"dataframe\">\n",
       "  <thead>\n",
       "    <tr style=\"text-align: right;\">\n",
       "      <th></th>\n",
       "      <th>shipping_price</th>\n",
       "    </tr>\n",
       "    <tr>\n",
       "      <th>index</th>\n",
       "      <th></th>\n",
       "    </tr>\n",
       "  </thead>\n",
       "  <tbody>\n",
       "    <tr>\n",
       "      <th>1</th>\n",
       "      <td>5.49</td>\n",
       "    </tr>\n",
       "    <tr>\n",
       "      <th>2</th>\n",
       "      <td>2.39</td>\n",
       "    </tr>\n",
       "    <tr>\n",
       "      <th>3</th>\n",
       "      <td>2.39</td>\n",
       "    </tr>\n",
       "    <tr>\n",
       "      <th>4</th>\n",
       "      <td>10.81</td>\n",
       "    </tr>\n",
       "    <tr>\n",
       "      <th>5</th>\n",
       "      <td>3.62</td>\n",
       "    </tr>\n",
       "    <tr>\n",
       "      <th>6</th>\n",
       "      <td>9.50</td>\n",
       "    </tr>\n",
       "  </tbody>\n",
       "</table>\n",
       "</div>"
      ],
      "text/plain": [
       "      shipping_price\n",
       "index               \n",
       "1              5.49 \n",
       "2              2.39 \n",
       "3              2.39 \n",
       "4             10.81 \n",
       "5              3.62 \n",
       "6              9.50 "
      ]
     },
     "execution_count": 35,
     "metadata": {},
     "output_type": "execute_result"
    }
   ],
   "source": [
    "df_shipprice = pd.DataFrame(shipprice)\n",
    "\n",
    "df_shipprice.columns = ['shipping_price']\n",
    "# we name the column as 'shipping_price'..\n",
    "\n",
    "\n",
    "df_shipprice.index = np.arange(1,\n",
    "                                len(df_shipprice) + 1)\n",
    "# set the starting point of indexing as int 1\n",
    "\n",
    "df_shipprice.index.name = 'index'\n",
    "# ..and the index column as such\n",
    "\n",
    "df_shipprice.head(6)\n"
   ]
  },
  {
   "cell_type": "code",
   "execution_count": 36,
   "id": "ddcb296b",
   "metadata": {},
   "outputs": [],
   "source": [
    "df_shipprice.to_csv('shipping_pice.csv')"
   ]
  },
  {
   "cell_type": "markdown",
   "id": "dbcf876d",
   "metadata": {},
   "source": [
    "#### \n",
    "Country of provenance"
   ]
  },
  {
   "cell_type": "code",
   "execution_count": 37,
   "id": "2b55baf5",
   "metadata": {},
   "outputs": [
    {
     "data": {
      "text/plain": [
       "['from United States',\n",
       " 'from United States',\n",
       " 'from United States',\n",
       " 'from United Kingdom',\n",
       " 'from United States']"
      ]
     },
     "execution_count": 37,
     "metadata": {},
     "output_type": "execute_result"
    }
   ],
   "source": [
    "span_tag = page_soup.findAll('span',\n",
    "               {'class' : 's-item__location s-item__itemLocation'})\n",
    "\n",
    "provenance = []\n",
    "\n",
    "for i in span_tag:\n",
    "    provenance.append(i.text[:])\n",
    "\n",
    "    \n",
    "provenance[1:6] \n",
    "#just fetch these of this range"
   ]
  },
  {
   "cell_type": "code",
   "execution_count": 38,
   "id": "b8962fd0",
   "metadata": {},
   "outputs": [
    {
     "data": {
      "text/plain": [
       "[' United States',\n",
       " ' United States',\n",
       " ' United States',\n",
       " ' United Kingdom',\n",
       " ' United States']"
      ]
     },
     "execution_count": 38,
     "metadata": {},
     "output_type": "execute_result"
    }
   ],
   "source": [
    "span_tag = page_soup.findAll('span',\n",
    "               {'class' : 's-item__location s-item__itemLocation'})\n",
    "\n",
    "provenance = []\n",
    "\n",
    "for i in span_tag:\n",
    "    provenance.append(i.text[:]\\\n",
    "                          .replace('from'\n",
    "                                   ,''))\n",
    "\n",
    "    \n",
    "provenance[1:6] \n",
    "#just fetch these of this range"
   ]
  },
  {
   "cell_type": "code",
   "execution_count": 39,
   "id": "5dd396ea",
   "metadata": {},
   "outputs": [
    {
     "data": {
      "text/html": [
       "<div>\n",
       "<style scoped>\n",
       "    .dataframe tbody tr th:only-of-type {\n",
       "        vertical-align: middle;\n",
       "    }\n",
       "\n",
       "    .dataframe tbody tr th {\n",
       "        vertical-align: top;\n",
       "    }\n",
       "\n",
       "    .dataframe thead th {\n",
       "        text-align: right;\n",
       "    }\n",
       "</style>\n",
       "<table border=\"1\" class=\"dataframe\">\n",
       "  <thead>\n",
       "    <tr style=\"text-align: right;\">\n",
       "      <th></th>\n",
       "      <th>country_of_provenance</th>\n",
       "    </tr>\n",
       "    <tr>\n",
       "      <th>index</th>\n",
       "      <th></th>\n",
       "    </tr>\n",
       "  </thead>\n",
       "  <tbody>\n",
       "    <tr>\n",
       "      <th>1</th>\n",
       "      <td>United Kingdom</td>\n",
       "    </tr>\n",
       "    <tr>\n",
       "      <th>2</th>\n",
       "      <td>United States</td>\n",
       "    </tr>\n",
       "    <tr>\n",
       "      <th>3</th>\n",
       "      <td>United States</td>\n",
       "    </tr>\n",
       "    <tr>\n",
       "      <th>4</th>\n",
       "      <td>United States</td>\n",
       "    </tr>\n",
       "    <tr>\n",
       "      <th>5</th>\n",
       "      <td>United Kingdom</td>\n",
       "    </tr>\n",
       "    <tr>\n",
       "      <th>6</th>\n",
       "      <td>United States</td>\n",
       "    </tr>\n",
       "  </tbody>\n",
       "</table>\n",
       "</div>"
      ],
      "text/plain": [
       "      country_of_provenance\n",
       "index                      \n",
       "1            United Kingdom\n",
       "2             United States\n",
       "3             United States\n",
       "4             United States\n",
       "5            United Kingdom\n",
       "6             United States"
      ]
     },
     "execution_count": 39,
     "metadata": {},
     "output_type": "execute_result"
    }
   ],
   "source": [
    "df_provenance = pd.DataFrame(provenance)\n",
    "\n",
    "df_provenance.columns = ['country_of_provenance']\n",
    "# we name the column as 'shipping_price'..\n",
    "\n",
    "df_provenance.index = np.arange(1,\n",
    "                                len(df_provenance) + 1)\n",
    "# set the starting point of indexing as int 1\n",
    "\n",
    "\n",
    "df_provenance.index.name = 'index'\n",
    "# ..and the index column as such\n",
    "\n",
    "df_provenance.head(6)\n"
   ]
  },
  {
   "cell_type": "code",
   "execution_count": 40,
   "id": "d83778b8",
   "metadata": {},
   "outputs": [],
   "source": [
    "df_provenance.to_csv('country_of_provenance.csv')"
   ]
  }
 ],
 "metadata": {
  "kernelspec": {
   "display_name": "Python 3 (ipykernel)",
   "language": "python",
   "name": "python3"
  },
  "language_info": {
   "codemirror_mode": {
    "name": "ipython",
    "version": 3
   },
   "file_extension": ".py",
   "mimetype": "text/x-python",
   "name": "python",
   "nbconvert_exporter": "python",
   "pygments_lexer": "ipython3",
   "version": "3.11.4"
  }
 },
 "nbformat": 4,
 "nbformat_minor": 5
}
