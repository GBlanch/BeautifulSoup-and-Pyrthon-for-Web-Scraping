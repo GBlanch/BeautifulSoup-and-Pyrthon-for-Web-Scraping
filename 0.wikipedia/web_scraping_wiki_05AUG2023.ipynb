{
 "cells": [
  {
   "cell_type": "markdown",
   "id": "a8a696d0",
   "metadata": {},
   "source": [
    "# Web Scrapping from Wikipedia"
   ]
  },
  {
   "cell_type": "markdown",
   "id": "a8d24906",
   "metadata": {},
   "source": [
    "### List of best-selling books _Between 20 million and 50 million copies_\n"
   ]
  },
  {
   "cell_type": "code",
   "execution_count": 3,
   "id": "2ab56a66",
   "metadata": {},
   "outputs": [],
   "source": [
    "from bs4 import BeautifulSoup\n",
    "import requests\n",
    "import pandas as pd"
   ]
  },
  {
   "cell_type": "code",
   "execution_count": 4,
   "id": "b83a81b0",
   "metadata": {},
   "outputs": [],
   "source": [
    "url = 'https://en.wikipedia.org/wiki/List_of_best-selling_books'\n",
    "url\n",
    "page = requests.get(url).text"
   ]
  },
  {
   "cell_type": "code",
   "execution_count": 5,
   "id": "9e3fde37",
   "metadata": {},
   "outputs": [],
   "source": [
    "soup = BeautifulSoup(page,\n",
    "                     'html.parser')\n",
    "# soup\n",
    "# Output too large. Uncomment the line above to see the output"
   ]
  },
  {
   "cell_type": "code",
   "execution_count": null,
   "id": "1ed0712f",
   "metadata": {},
   "outputs": [],
   "source": [
    "# print(soup.prettify())\n",
    "\n",
    "# Output too large. Uncomment the line above to see the output"
   ]
  },
  {
   "cell_type": "code",
   "execution_count": null,
   "id": "47ef0af6",
   "metadata": {},
   "outputs": [],
   "source": [
    "table = soup.findAll('table')[0]\n",
    "table"
   ]
  },
  {
   "cell_type": "code",
   "execution_count": null,
   "id": "5de161e7",
   "metadata": {},
   "outputs": [],
   "source": [
    "table = soup.findAll('table')[2]\n",
    "table"
   ]
  },
  {
   "cell_type": "markdown",
   "id": "bb7fa498",
   "metadata": {},
   "source": [
    "We can see from the fist lines ( `The_Tale_of_Peter_Rabbit` and `Beatrix Potter`) that this table is the one we're aiming for, therefore we have assigned it already to the variable `table`.\n",
    "\n",
    " Next, we want to get solely the headers of our table, so we code just aiming to find  `th` or `table headers` tags :"
   ]
  },
  {
   "cell_type": "code",
   "execution_count": 9,
   "id": "24a07fa2",
   "metadata": {},
   "outputs": [
    {
     "data": {
      "text/plain": [
       "[<th>Book</th>,\n",
       " <th>Author(s)</th>,\n",
       " <th>Original language</th>,\n",
       " <th>First published</th>,\n",
       " <th>Approximate sales</th>,\n",
       " <th>Genre\n",
       " </th>]"
      ]
     },
     "execution_count": 9,
     "metadata": {},
     "output_type": "execute_result"
    }
   ],
   "source": [
    "html_headers = table.findAll('th')\n",
    "html_headers"
   ]
  },
  {
   "cell_type": "markdown",
   "id": "235027e5",
   "metadata": {},
   "source": [
    "With the function `text`, we can get only the text from between the `th` tags, then strip them. We will do this while in a for-loop for all the `html_headers` we found in the cell above. This results:"
   ]
  },
  {
   "cell_type": "code",
   "execution_count": 87,
   "id": "bf02d998",
   "metadata": {},
   "outputs": [
    {
     "data": {
      "text/plain": [
       "['Book',\n",
       " 'Author(s)',\n",
       " 'Original language',\n",
       " 'First published',\n",
       " 'Approximate sales',\n",
       " 'Genre']"
      ]
     },
     "execution_count": 87,
     "metadata": {},
     "output_type": "execute_result"
    }
   ],
   "source": [
    "raw_headers = [title.text\\\n",
    "               .strip() for title in html_headers]\n",
    "\n",
    "raw_headers"
   ]
  },
  {
   "cell_type": "markdown",
   "id": "c6dfd8fa",
   "metadata": {},
   "source": [
    "Then define a dataframe with only the columns as the new values `raw_headers` we fetched above:"
   ]
  },
  {
   "cell_type": "code",
   "execution_count": 160,
   "id": "e2675196",
   "metadata": {},
   "outputs": [
    {
     "data": {
      "text/html": [
       "<div>\n",
       "<style scoped>\n",
       "    .dataframe tbody tr th:only-of-type {\n",
       "        vertical-align: middle;\n",
       "    }\n",
       "\n",
       "    .dataframe tbody tr th {\n",
       "        vertical-align: top;\n",
       "    }\n",
       "\n",
       "    .dataframe thead th {\n",
       "        text-align: right;\n",
       "    }\n",
       "</style>\n",
       "<table border=\"1\" class=\"dataframe\">\n",
       "  <thead>\n",
       "    <tr style=\"text-align: right;\">\n",
       "      <th></th>\n",
       "      <th>Book</th>\n",
       "      <th>Author(s)</th>\n",
       "      <th>Original language</th>\n",
       "      <th>First published</th>\n",
       "      <th>Approximate sales</th>\n",
       "      <th>Genre</th>\n",
       "    </tr>\n",
       "  </thead>\n",
       "  <tbody>\n",
       "  </tbody>\n",
       "</table>\n",
       "</div>"
      ],
      "text/plain": [
       "Empty DataFrame\n",
       "Columns: [Book, Author(s), Original language, First published, Approximate sales, Genre]\n",
       "Index: []"
      ]
     },
     "execution_count": 160,
     "metadata": {},
     "output_type": "execute_result"
    }
   ],
   "source": [
    "df_bs_books = pd.DataFrame( columns = raw_headers )\n",
    "df_bs_books"
   ]
  },
  {
   "cell_type": "code",
   "execution_count": null,
   "id": "17ba6543",
   "metadata": {},
   "outputs": [],
   "source": [
    "target_table = table.findAll('tr')\n",
    "target_table\n",
    "# find all the `table row` elements and assign them to the variable 'target_table'."
   ]
  },
  {
   "cell_type": "markdown",
   "id": "9b6507ff",
   "metadata": {},
   "source": [
    "This `target_table` contains all the data we want to fetch. We can check this out by selecting the first (headers) and last rows of it. This is:"
   ]
  },
  {
   "cell_type": "code",
   "execution_count": 79,
   "id": "8feebedf",
   "metadata": {},
   "outputs": [
    {
     "data": {
      "text/plain": [
       "<tr>\n",
       "<th>Book</th>\n",
       "<th>Author(s)</th>\n",
       "<th>Original language</th>\n",
       "<th>First published</th>\n",
       "<th>Approximate sales</th>\n",
       "<th>Genre\n",
       "</th></tr>"
      ]
     },
     "execution_count": 79,
     "metadata": {},
     "output_type": "execute_result"
    }
   ],
   "source": [
    "target_table[0]\n",
    "# headers\n"
   ]
  },
  {
   "cell_type": "markdown",
   "id": "23fa7b85",
   "metadata": {},
   "source": [
    "These are the headers of out table, and if we fetch the last element of this table, as reads below:"
   ]
  },
  {
   "cell_type": "code",
   "execution_count": null,
   "id": "b0dc037e",
   "metadata": {},
   "outputs": [
    {
     "data": {
      "text/plain": [
       "<tr style=\"background:lavender;\">\n",
       "<td><i><a href=\"/wiki/The_Naked_Ape\" title=\"The Naked Ape\">The Naked Ape</a></i>\n",
       "</td>\n",
       "<td><a href=\"/wiki/Desmond_Morris\" title=\"Desmond Morris\">Desmond Morris</a>\n",
       "</td>\n",
       "<td>English\n",
       "</td>\n",
       "<td>1968\n",
       "</td>\n",
       "<td>20 million<sup class=\"reference\" id=\"cite_ref-128\"><a href=\"#cite_note-128\">[128]</a></sup></td>\n",
       "<td><a class=\"mw-redirect\" href=\"/wiki/Social_Science\" title=\"Social Science\">Social Science</a>, <a href=\"/wiki/Anthropology\" title=\"Anthropology\">Anthropology</a>, <a href=\"/wiki/Psychology\" title=\"Psychology\">Psychology</a>\n",
       "</td></tr>"
      ]
     },
     "execution_count": 62,
     "metadata": {},
     "output_type": "execute_result"
    }
   ],
   "source": [
    "target_table[-1]\n",
    "# last row\n"
   ]
  },
  {
   "cell_type": "markdown",
   "id": "c7b60f79",
   "metadata": {},
   "source": [
    "We see that the last element of the table is called `The Naked Ape`, so we are on the right one."
   ]
  },
  {
   "cell_type": "code",
   "execution_count": null,
   "id": "62fe2b6d",
   "metadata": {},
   "outputs": [],
   "source": [
    "for row in target_table[1:]:\n",
    "    html_data = row.findAll('td')\n",
    "    print(html_data)  "
   ]
  },
  {
   "cell_type": "markdown",
   "id": "6ca7b030",
   "metadata": {},
   "source": [
    "In the code above, we are starting from the 2nd value since the first one is a blank space.  \n",
    "\n",
    "Moving foward, we can also print every observation of the table once we rid it from the HTML code we are not interested in. This can be done by stripping and text-isolating the values from `html_data` and assinging them to a new variable `cell_row_data`.\n",
    "\n",
    "\n",
    " This occurs when we apply the functions `.strip()` and `.text` - respecively - to every element of the variable `html_data`. We are printing this new variable `cell_row_data` for demonstrating purposes:"
   ]
  },
  {
   "cell_type": "code",
   "execution_count": 130,
   "id": "14d30bb3",
   "metadata": {},
   "outputs": [
    {
     "name": "stdout",
     "output_type": "stream",
     "text": [
      "['The Tale of Peter Rabbit', 'Beatrix Potter', 'English', '1902', '45 million[56]', \"Children's Literature\"]\n",
      "['Jonathan Livingston Seagull', 'Richard Bach', 'English', '1970', '44 million[57]', 'Novella, Self-help']\n",
      "['The Very Hungry Caterpillar', 'Eric Carle', 'English', '1969', '43 million[58]', \"Children's Literature, picture book\"]\n",
      "['A Message to Garcia', 'Elbert Hubbard', 'English', '1899', '40 million[47]', 'Essay/Literature']\n",
      "['To Kill a Mockingbird', 'Harper Lee', 'English', '1960', '40 million[59]', 'Southern Gothic, Bildungsroman']\n",
      "['Flowers in the Attic', 'V. C. Andrews', 'English', '1979', '40 million[60]', 'Gothic horror, Family saga']\n",
      "['Cosmos', 'Carl Sagan', 'English', '1980', '40 million[61]', 'Popular science, Anthropology, Astrophysics, Cosmology, Philosophy, History']\n",
      "[\"Sophie's World (Sofies verden)\", 'Jostein Gaarder', 'Norwegian', '1991', '40 million[62]', 'Philosophical novel, Young adult']\n",
      "['Angels & Demons', 'Dan Brown', 'English', '2000', '39 million[63]', 'Mystery-thriller']\n",
      "['Kane and Abel', 'Jeffrey Archer', 'English', '1979', '37 million[64]', 'Novel']\n",
      "['How the Steel Was Tempered (Как закалялась сталь)', 'Nikolai Ostrovsky', 'Russian', '1932', '36.4 million copies in USSR[65]', 'Socialist realist novel']\n",
      "['War and Peace (Война и мир)', 'Leo Tolstoy', 'Russian', '1869', '36 million copies in Russia[65]', 'Historical novel']\n",
      "['The Adventures of Pinocchio (Le avventure di Pinocchio)', 'Carlo Collodi', 'Italian', '1881', '35 million[66][67][better\\xa0source\\xa0needed]', \"Fantasy, Children's fiction\"]\n",
      "['The Diary of Anne Frank (Het Achterhuis)', 'Anne Frank', 'Dutch', '1947', '35 million[68]', 'Historical non-fiction, Autobiography, Memoir, Bildungsroman / Coming of Age, Jewish literature']\n",
      "['Your Erroneous Zones', 'Wayne Dyer', 'English', '1976', '35 million[69][70]', 'Self-help']\n",
      "['The Thorn Birds', 'Colleen McCullough', 'English', '1977', '33 million[71]', 'Romantic family saga']\n",
      "['The Purpose Driven Life', 'Rick Warren', 'English', '2002', '33 million[72]', 'Christian literature']\n",
      "['The Kite Runner', 'Khaled Hosseini', 'English', '2003', '31.5 million[73]', 'Bildungsroman, Historical fiction']\n",
      "['Valley of the Dolls', 'Jacqueline Susann', 'English', '1966', '31 million[74]', 'Novel']\n",
      "['Alcoholics Anonymous Big Book', 'Bill Wilson', 'English', '1939', '30 million[75][76]', 'Self-help']\n",
      "['How to Win Friends and Influence People', 'Dale Carnegie', 'English', '1936', 'Over 30 million[77][78]', 'Self-help']\n",
      "['The Great Gatsby', 'F. Scott Fitzgerald', 'English', '1925', '30 million (\"around\")[79]', 'Novel, tragedy']\n",
      "['Gone with the Wind', 'Margaret Mitchell', 'English', '1936', '30 million (est.)[80]', 'Historical fiction']\n",
      "['Rebecca', 'Daphne du Maurier', 'English', '1938', '30 million (est.)[81]', 'Gothic novel']\n",
      "['Nineteen Eighty-Four', 'George Orwell', 'English', '1949', '30 million[82]', 'Dystopian, political fiction, social science fiction']\n",
      "['The Revolt of Mamie Stover', 'William Bradford Huie', 'English', '1951', '30 million[83]', 'Fiction']\n",
      "['The Girl with the Dragon Tattoo (Män som hatar kvinnor)', 'Stieg Larsson', 'Swedish', '2005', '30 million[84]', 'Fiction']\n",
      "['The Lost Symbol', 'Dan Brown', 'English', '2009', '30 million[85]', 'Fiction']\n",
      "['The Hunger Games', 'Suzanne Collins', 'English', '2008', '29 million in US[86]', 'Young adult fiction']\n",
      "['James and the Giant Peach', 'Roald Dahl', 'English', '1961', '28 million[87]', \"Children's novel\"]\n",
      "['The Young Guard (Молодая гвардия)', 'Alexander Alexandrovich Fadeyev', 'Russian', '1945', '26 million copies in USSR[65]', 'Young adult historical novel']\n",
      "['Who Moved My Cheese?', 'Spencer Johnson', 'English', '1998', '28[88] – 30[89] million', 'Self-help, motivational, business fable, psychology, leadership, parable']\n",
      "['A Brief History of Time', 'Stephen Hawking', 'English', '1988', '25 million[90]', 'Popular science']\n",
      "['Paul et Virginie', 'Jacques-Henri Bernardin de Saint-Pierre', 'French', '1788', '25 million[91]', 'Novel']\n",
      "['Lust for Life', 'Irving Stone', 'English', '1934', '25 million[92]', 'Biographical novel']\n",
      "['The Wind in the Willows', 'Kenneth Grahame', 'English', '1908', '25 million[93]', \"Children's literature\"]\n",
      "['The 7 Habits of Highly Effective People', 'Stephen R. Covey', 'English', '1989', '25 million[94]', 'Self-help']\n",
      "['Totto-Chan: The Little Girl at the Window (窓ぎわのトットちゃん)', 'Tetsuko Kuroyanagi', 'Japanese', '1981', '25 million [95]', 'Autobiographical novel']\n",
      "['Virgin Soil Upturned (Поднятая целина)', 'Mikhail Sholokhov', 'Russian', '1935', '24 million copies in USSR[65]', 'Novel']\n",
      "['The Celestine Prophecy', 'James Redfield', 'English', '1993', '23 million[96]', 'New-age spiritual novel']\n",
      "['The Fault in Our Stars', 'John Green', 'English', '2012', '23 million[97]', 'Young adult romantic novel']\n",
      "['The Girl on the Train', 'Paula Hawkins', 'English', '2015', '23 million[98]', 'Thriller']\n",
      "['The Shack', 'William P. Young', 'English', '2007', '22.5 million[99]', 'Novel']\n",
      "['Uncle Styopa (Дядя Стёпа)', 'Sergey Mikhalkov', 'Russian', '1936', '21 million copies in USSR[65]', \"Children's Literature, picture book\"]\n",
      "['The Godfather', 'Mario Puzo', 'English', '1969', '21 million[100]', 'Crime novel']\n",
      "['Love Story', 'Erich Segal', 'English', '1970', '21 million[101]', 'Romance novel']\n",
      "['Catching Fire', 'Suzanne Collins', 'English', '2009', '21 million in US[86]', 'Young Adult novel, adventure, dystopian, science fiction']\n",
      "['Mockingjay', 'Suzanne Collins', 'English', '2010', '20 million in US[86]', 'Young Adult novel, adventure, war, science fiction, action thriller']\n",
      "['Kitchen (キッチン)', 'Banana Yoshimoto', 'Japanese', '1988', '20 million[102]', 'Japanese novel']\n",
      "['Andromeda Nebula (Туманность Андромеды)', 'Ivan Yefremov', 'Russian', '1957', '20 million[103]', 'Science fiction novel']\n",
      "['Autobiography of a Yogi (योगी कथामृत)', 'Paramahansa Yogananda', 'Hindi', '1946', '20 million[104]', 'Autobiography']\n",
      "['Gone Girl', 'Gillian Flynn', 'English', '2012', '20 million[105]', 'Crime thriller novel']\n",
      "['All Quiet on the Western Front (Im Westen nichts Neues)', 'Erich Maria Remarque', 'German', '1929', '20 million[106]', 'War novel']\n",
      "['The Bermuda Triangle', 'Charles Berlitz', 'English', '1974', '20 million[107]', '']\n",
      "['Things Fall Apart', 'Chinua Achebe', 'English', '1958', '20 million[108]', 'Novel']\n",
      "['Animal Farm', 'George Orwell', 'English', '1945', '20 million[109]', 'Satirical allegorical novella, Political satire, Dystopian Fiction, Roman à clef']\n",
      "['Wolf Totem (狼图腾)', 'Jiang Rong', 'Chinese', '2004', '20 million[110]', 'Semi-autobiographical novel']\n",
      "['The Happy Hooker: My Own Story', 'Xaviera Hollander', 'English', '1971', '20 million[111]', 'Memoir']\n",
      "['Jaws', 'Peter Benchley', 'English', '1974', '20 million[112]', 'Thriller']\n",
      "['Love You Forever', 'Robert Munsch', 'English', '1986', '20 million[113]', \"Children's literature, picture book, fiction\"]\n",
      "[\"The Women's Room\", 'Marilyn French', 'English', '1977', '20 million[114]', 'Feminist novel']\n",
      "[\"What to Expect When You're Expecting\", 'Arlene Eisenberg and Heidi Murkoff', 'English', '1984', '20 million[115]', 'Pregnancy guide']\n",
      "['Adventures of Huckleberry Finn', 'Mark Twain', 'English', '1885', '20 million[116]', 'Picaresque novel, Bildungsroman, satire, Robinsonade']\n",
      "['The Secret Diary of Adrian Mole, Aged 13¾', 'Sue Townsend', 'English', '1982', '20 million[117]', 'Young adult novel']\n",
      "['Pride and Prejudice', 'Jane Austen', 'English', '1813', '20 million[118][119]', 'Classic regency novel, romance']\n",
      "['Kon-Tiki: Across the Pacific in a Raft (Kon-Tiki ekspedisjonen)', 'Thor Heyerdahl', 'Norwegian', '1950', '20 million[120]', 'Travel literature']\n",
      "['The Good Soldier Švejk (Osudy dobrého vojáka Švejka za světové války)', 'Jaroslav Hašek', 'Czech', '1923', '20 million (printed)[121]', 'Unfinished satirical dark comedy novel']\n",
      "['Where the Wild Things Are', 'Maurice Sendak', 'English', '1963', '20 million[122]', \"Children's picture book\"]\n",
      "['The Power of Positive Thinking', 'Norman Vincent Peale', 'English', '1952', '20 million[123]', 'Self-help']\n",
      "['The Secret', 'Rhonda Byrne', 'English', '2006', '20 million[124]', 'Self-help']\n",
      "['Fear of Flying', 'Erica Jong', 'English', '1973', '20 million[125]', 'Romantic novel']\n",
      "['Dune', 'Frank Herbert', 'English', '1965', '20 million[126]', 'Science fiction novel']\n",
      "['Charlie and the Chocolate Factory', 'Roald Dahl', 'English', '1964', '20 million[127]', \"Children's fantasy novel\"]\n",
      "['The Naked Ape', 'Desmond Morris', 'English', '1968', '20 million[128]', 'Social Science, Anthropology, Psychology']\n"
     ]
    }
   ],
   "source": [
    "for row in target_table[1:]:\n",
    "    html_data = row.findAll('td')\n",
    "    cell_row_data = [data.text\\\n",
    "                     .strip() for data in html_data]\n",
    "    print(cell_row_data)"
   ]
  },
  {
   "cell_type": "markdown",
   "id": "708d3ada",
   "metadata": {},
   "source": [
    "Removing the intermediate printings, and just adding two more lines, the code which creates the final dataframe reads as follows:"
   ]
  },
  {
   "cell_type": "code",
   "execution_count": 161,
   "id": "2d259d71",
   "metadata": {},
   "outputs": [],
   "source": [
    "for row in target_table[1:]:\n",
    "    html_data = row.findAll('td')\n",
    "    cell_row_data = [data.text\\\n",
    "                     .strip() for data in html_data]\n",
    "\n",
    "    length = len(df_bs_books)\n",
    "    df_bs_books.loc[length] = cell_row_data"
   ]
  },
  {
   "cell_type": "markdown",
   "id": "11893812",
   "metadata": {},
   "source": [
    "These two new lines of code can be explained as: by every new for-itineration, the length of the dataframe `df_bs_books` increases, and so does the variable `length` ( the latter one is defined by the former one )."
   ]
  },
  {
   "cell_type": "markdown",
   "id": "af381ead",
   "metadata": {},
   "source": [
    "We just need now to adjust the index so that we don't count the header as an observation"
   ]
  },
  {
   "cell_type": "code",
   "execution_count": 163,
   "id": "1d301a5a",
   "metadata": {},
   "outputs": [],
   "source": [
    "df_bs_books.index = df_bs_books.index + 1"
   ]
  },
  {
   "cell_type": "markdown",
   "id": "9c4d4c63",
   "metadata": {},
   "source": [
    "And finally we display our dataframe prior to store it as a csv file"
   ]
  },
  {
   "cell_type": "code",
   "execution_count": 164,
   "id": "68df6b20",
   "metadata": {},
   "outputs": [
    {
     "data": {
      "text/html": [
       "<div>\n",
       "<style scoped>\n",
       "    .dataframe tbody tr th:only-of-type {\n",
       "        vertical-align: middle;\n",
       "    }\n",
       "\n",
       "    .dataframe tbody tr th {\n",
       "        vertical-align: top;\n",
       "    }\n",
       "\n",
       "    .dataframe thead th {\n",
       "        text-align: right;\n",
       "    }\n",
       "</style>\n",
       "<table border=\"1\" class=\"dataframe\">\n",
       "  <thead>\n",
       "    <tr style=\"text-align: right;\">\n",
       "      <th></th>\n",
       "      <th>Book</th>\n",
       "      <th>Author(s)</th>\n",
       "      <th>Original language</th>\n",
       "      <th>First published</th>\n",
       "      <th>Approximate sales</th>\n",
       "      <th>Genre</th>\n",
       "    </tr>\n",
       "  </thead>\n",
       "  <tbody>\n",
       "    <tr>\n",
       "      <th>1</th>\n",
       "      <td>The Tale of Peter Rabbit</td>\n",
       "      <td>Beatrix Potter</td>\n",
       "      <td>English</td>\n",
       "      <td>1902</td>\n",
       "      <td>45 million[56]</td>\n",
       "      <td>Children's Literature</td>\n",
       "    </tr>\n",
       "    <tr>\n",
       "      <th>2</th>\n",
       "      <td>Jonathan Livingston Seagull</td>\n",
       "      <td>Richard Bach</td>\n",
       "      <td>English</td>\n",
       "      <td>1970</td>\n",
       "      <td>44 million[57]</td>\n",
       "      <td>Novella, Self-help</td>\n",
       "    </tr>\n",
       "    <tr>\n",
       "      <th>3</th>\n",
       "      <td>The Very Hungry Caterpillar</td>\n",
       "      <td>Eric Carle</td>\n",
       "      <td>English</td>\n",
       "      <td>1969</td>\n",
       "      <td>43 million[58]</td>\n",
       "      <td>Children's Literature, picture book</td>\n",
       "    </tr>\n",
       "    <tr>\n",
       "      <th>4</th>\n",
       "      <td>A Message to Garcia</td>\n",
       "      <td>Elbert Hubbard</td>\n",
       "      <td>English</td>\n",
       "      <td>1899</td>\n",
       "      <td>40 million[47]</td>\n",
       "      <td>Essay/Literature</td>\n",
       "    </tr>\n",
       "    <tr>\n",
       "      <th>5</th>\n",
       "      <td>To Kill a Mockingbird</td>\n",
       "      <td>Harper Lee</td>\n",
       "      <td>English</td>\n",
       "      <td>1960</td>\n",
       "      <td>40 million[59]</td>\n",
       "      <td>Southern Gothic, Bildungsroman</td>\n",
       "    </tr>\n",
       "    <tr>\n",
       "      <th>...</th>\n",
       "      <td>...</td>\n",
       "      <td>...</td>\n",
       "      <td>...</td>\n",
       "      <td>...</td>\n",
       "      <td>...</td>\n",
       "      <td>...</td>\n",
       "    </tr>\n",
       "    <tr>\n",
       "      <th>70</th>\n",
       "      <td>The Secret</td>\n",
       "      <td>Rhonda Byrne</td>\n",
       "      <td>English</td>\n",
       "      <td>2006</td>\n",
       "      <td>20 million[124]</td>\n",
       "      <td>Self-help</td>\n",
       "    </tr>\n",
       "    <tr>\n",
       "      <th>71</th>\n",
       "      <td>Fear of Flying</td>\n",
       "      <td>Erica Jong</td>\n",
       "      <td>English</td>\n",
       "      <td>1973</td>\n",
       "      <td>20 million[125]</td>\n",
       "      <td>Romantic novel</td>\n",
       "    </tr>\n",
       "    <tr>\n",
       "      <th>72</th>\n",
       "      <td>Dune</td>\n",
       "      <td>Frank Herbert</td>\n",
       "      <td>English</td>\n",
       "      <td>1965</td>\n",
       "      <td>20 million[126]</td>\n",
       "      <td>Science fiction novel</td>\n",
       "    </tr>\n",
       "    <tr>\n",
       "      <th>73</th>\n",
       "      <td>Charlie and the Chocolate Factory</td>\n",
       "      <td>Roald Dahl</td>\n",
       "      <td>English</td>\n",
       "      <td>1964</td>\n",
       "      <td>20 million[127]</td>\n",
       "      <td>Children's fantasy novel</td>\n",
       "    </tr>\n",
       "    <tr>\n",
       "      <th>74</th>\n",
       "      <td>The Naked Ape</td>\n",
       "      <td>Desmond Morris</td>\n",
       "      <td>English</td>\n",
       "      <td>1968</td>\n",
       "      <td>20 million[128]</td>\n",
       "      <td>Social Science, Anthropology, Psychology</td>\n",
       "    </tr>\n",
       "  </tbody>\n",
       "</table>\n",
       "<p>74 rows × 6 columns</p>\n",
       "</div>"
      ],
      "text/plain": [
       "                                 Book       Author(s) Original language  \\\n",
       "1            The Tale of Peter Rabbit  Beatrix Potter           English   \n",
       "2         Jonathan Livingston Seagull    Richard Bach           English   \n",
       "3         The Very Hungry Caterpillar      Eric Carle           English   \n",
       "4                 A Message to Garcia  Elbert Hubbard           English   \n",
       "5               To Kill a Mockingbird      Harper Lee           English   \n",
       "..                                ...             ...               ...   \n",
       "70                         The Secret    Rhonda Byrne           English   \n",
       "71                     Fear of Flying      Erica Jong           English   \n",
       "72                               Dune   Frank Herbert           English   \n",
       "73  Charlie and the Chocolate Factory      Roald Dahl           English   \n",
       "74                      The Naked Ape  Desmond Morris           English   \n",
       "\n",
       "   First published Approximate sales                                     Genre  \n",
       "1             1902    45 million[56]                     Children's Literature  \n",
       "2             1970    44 million[57]                        Novella, Self-help  \n",
       "3             1969    43 million[58]       Children's Literature, picture book  \n",
       "4             1899    40 million[47]                          Essay/Literature  \n",
       "5             1960    40 million[59]            Southern Gothic, Bildungsroman  \n",
       "..             ...               ...                                       ...  \n",
       "70            2006   20 million[124]                                 Self-help  \n",
       "71            1973   20 million[125]                            Romantic novel  \n",
       "72            1965   20 million[126]                     Science fiction novel  \n",
       "73            1964   20 million[127]                  Children's fantasy novel  \n",
       "74            1968   20 million[128]  Social Science, Anthropology, Psychology  \n",
       "\n",
       "[74 rows x 6 columns]"
      ]
     },
     "execution_count": 164,
     "metadata": {},
     "output_type": "execute_result"
    }
   ],
   "source": [
    "df_bs_books"
   ]
  },
  {
   "cell_type": "code",
   "execution_count": 165,
   "id": "2efd2bf3",
   "metadata": {},
   "outputs": [],
   "source": [
    "df_bs_books.to_csv('20_to_50M_best_selling_books.csv')"
   ]
  }
 ],
 "metadata": {
  "kernelspec": {
   "display_name": "Python 3 (ipykernel)",
   "language": "python",
   "name": "python3"
  },
  "language_info": {
   "codemirror_mode": {
    "name": "ipython",
    "version": 3
   },
   "file_extension": ".py",
   "mimetype": "text/x-python",
   "name": "python",
   "nbconvert_exporter": "python",
   "pygments_lexer": "ipython3",
   "version": "3.11.4"
  }
 },
 "nbformat": 4,
 "nbformat_minor": 5
}
